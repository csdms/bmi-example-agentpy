{
 "cells": [
  {
   "cell_type": "markdown",
   "id": "156d82ab-3dee-4444-b976-cd2a6ba9b476",
   "metadata": {},
   "source": [
    "# Explore the parameters and initial conditions of the diffusion model"
   ]
  },
  {
   "attachments": {},
   "cell_type": "markdown",
   "id": "f38ca9cf-0828-420c-811b-02c61e2d2162",
   "metadata": {},
   "source": [
    "Here, rather than solving the diffusion equation numerically on a grid,\n",
    "the process of diffusion is modeled statistically\n",
    "using the random motion of particles in two dimensions.\n",
    "In each time step, each particle, or agent, is moved randomly zero to one grid cell in either coordinate direction.\n",
    "\n",
    "Start by importing the diffusion model written with [AgentPy](https://agentpy.readthedocs.io)."
   ]
  },
  {
   "cell_type": "code",
   "execution_count": null,
   "id": "a4087924-0c3e-4888-ab89-3ce427ad2bc7",
   "metadata": {},
   "outputs": [],
   "source": [
    "from diffusion import DiffusionModel, load_config"
   ]
  },
  {
   "cell_type": "markdown",
   "id": "ed77e132-d8aa-4c0d-a084-90c7acfc7f4e",
   "metadata": {},
   "source": [
    "The model parameters are stored in a configuration file.\n",
    "Load these parameters and view them."
   ]
  },
  {
   "cell_type": "code",
   "execution_count": null,
   "id": "b878fd5f-8b9b-422c-9a5e-12f19281c864",
   "metadata": {},
   "outputs": [],
   "source": [
    "params = load_config(\"config.yaml\")\n",
    "params"
   ]
  },
  {
   "attachments": {},
   "cell_type": "markdown",
   "id": "74de4efc-614a-420c-9087-3624d9b99908",
   "metadata": {},
   "source": [
    "The model uses 100 agents.\n",
    "Initially, all the agents are placed at position `[5,5]` on a 10 x 10 grid.\n",
    "By default, the model runs for 20 time steps.\n",
    "It has a pseudo diffusivity of 3.\n",
    "\n",
    "Initialize the model, then call its `setup` and `update` methods to get a view of the initial conditions."
   ]
  },
  {
   "cell_type": "code",
   "execution_count": null,
   "id": "eb2cc732-710a-4de3-8788-53d2cfd5a644",
   "metadata": {},
   "outputs": [],
   "source": [
    "m = DiffusionModel(params)"
   ]
  },
  {
   "cell_type": "code",
   "execution_count": null,
   "id": "63c5ba68-ce5e-4522-ac53-f673027122e9",
   "metadata": {},
   "outputs": [],
   "source": [
    "m.setup()\n",
    "m.update()"
   ]
  },
  {
   "cell_type": "code",
   "execution_count": null,
   "id": "d02f3641-d2b3-433f-86c0-7757232f05e5",
   "metadata": {},
   "outputs": [],
   "source": [
    "m.histogram"
   ]
  },
  {
   "attachments": {},
   "cell_type": "markdown",
   "id": "a0d3225d-5ebc-44ba-a3c0-5631cf9a60a7",
   "metadata": {},
   "source": [
    "(Calling `setup` and `update` aren't typically needed to run a model with AgentPy; they're used here only to initialize the `histogram` attribute of the model.)\n",
    "\n",
    "Run the model for a single time step."
   ]
  },
  {
   "cell_type": "code",
   "execution_count": null,
   "id": "a58cd83f-2800-4c7c-bb76-c1d847b076c8",
   "metadata": {},
   "outputs": [],
   "source": [
    "results = m.run(steps=1)\n",
    "results"
   ]
  },
  {
   "cell_type": "markdown",
   "id": "7f788bed-272a-42cd-bed7-6e2f8799d461",
   "metadata": {},
   "source": [
    "Show the histogram of agents again.\n",
    "Note that the initial peak has spread out to neighboring grid cells."
   ]
  },
  {
   "cell_type": "code",
   "execution_count": null,
   "id": "a84ced07-fe7a-4d73-b0eb-249bbc122bd3",
   "metadata": {},
   "outputs": [],
   "source": [
    "m.histogram"
   ]
  },
  {
   "cell_type": "markdown",
   "id": "43a33719-5f33-4b95-a7f1-ae8b4a07983d",
   "metadata": {},
   "source": [
    "Display the histogram of agents graphically using *matplotlib* and a helper function."
   ]
  },
  {
   "cell_type": "code",
   "execution_count": null,
   "id": "dfc5a25e-3ba5-4dce-8e18-bc7f772f9374",
   "metadata": {},
   "outputs": [],
   "source": [
    "import matplotlib.pyplot as plt\n",
    "from diffusion.vis import histogram_colorbar_plot"
   ]
  },
  {
   "cell_type": "code",
   "execution_count": null,
   "id": "076c3bed-772f-4ea4-abb2-80bb342596bf",
   "metadata": {},
   "outputs": [],
   "source": [
    "fig, ax = plt.subplots()\n",
    "histogram_colorbar_plot(m, ax, fig)"
   ]
  }
 ],
 "metadata": {
  "kernelspec": {
   "display_name": "Python 3 (ipykernel)",
   "language": "python",
   "name": "python3"
  },
  "language_info": {
   "codemirror_mode": {
    "name": "ipython",
    "version": 3
   },
   "file_extension": ".py",
   "mimetype": "text/x-python",
   "name": "python",
   "nbconvert_exporter": "python",
   "pygments_lexer": "ipython3",
   "version": "3.12.6"
  }
 },
 "nbformat": 4,
 "nbformat_minor": 5
}
