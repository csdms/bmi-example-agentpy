{
 "cells": [
  {
   "cell_type": "markdown",
   "id": "154382ab-1ad1-42de-8dfc-2b7f9fe3d368",
   "metadata": {},
   "source": [
    "# Run `DiffusionModel` through its BMI"
   ]
  },
  {
   "cell_type": "markdown",
   "id": "1d63b202-5550-4b78-a75f-645024dec654",
   "metadata": {},
   "source": [
    "## Setup"
   ]
  },
  {
   "cell_type": "markdown",
   "id": "786627d4-caea-4ddd-9737-25de4f4af89e",
   "metadata": {},
   "source": [
    "View the model configureation file, `config.yaml`."
   ]
  },
  {
   "cell_type": "code",
   "execution_count": null,
   "id": "0f43330d-c051-4108-9f5d-1f3ef0bc6779",
   "metadata": {},
   "outputs": [],
   "source": [
    "!cat config.yaml"
   ]
  },
  {
   "cell_type": "markdown",
   "id": "6f1624e4-cd52-479c-999d-085648d508ae",
   "metadata": {},
   "source": [
    "Import the Python libraries we'll use below."
   ]
  },
  {
   "cell_type": "code",
   "execution_count": null,
   "id": "3e5c2dff-fd7b-40ce-a634-811bf0262af2",
   "metadata": {},
   "outputs": [],
   "source": [
    "import numpy as np"
   ]
  },
  {
   "cell_type": "markdown",
   "id": "0f7758b5-86fe-4b97-bf38-49f023fca226",
   "metadata": {},
   "source": [
    "## Initialize the model"
   ]
  },
  {
   "cell_type": "markdown",
   "id": "16224941-a041-4ea0-ad4a-8a67ef5460c6",
   "metadata": {},
   "source": [
    "Import the `DiffusionModel` BMI."
   ]
  },
  {
   "cell_type": "code",
   "execution_count": null,
   "id": "9c4b14ac-2233-44da-8a1d-e16affd1a4ff",
   "metadata": {},
   "outputs": [],
   "source": [
    "from diffusion import BmiDiffusionModel"
   ]
  },
  {
   "cell_type": "markdown",
   "id": "f14043e4-e43f-45ed-8fcc-31d8e8fac78a",
   "metadata": {},
   "source": [
    "Make an instance of the model through its BMI."
   ]
  },
  {
   "cell_type": "code",
   "execution_count": null,
   "id": "0c6031e6-987b-4ed3-b294-ee710d224e0a",
   "metadata": {},
   "outputs": [],
   "source": [
    "m = BmiDiffusionModel()"
   ]
  },
  {
   "cell_type": "markdown",
   "id": "c2f6ecff-6129-49cc-84fe-fb5569dc521d",
   "metadata": {},
   "source": [
    "Get the name of the model."
   ]
  },
  {
   "cell_type": "code",
   "execution_count": null,
   "id": "3093b2d2-b77b-40c6-9c49-519ac0fd493b",
   "metadata": {},
   "outputs": [],
   "source": [
    "m.get_component_name()"
   ]
  },
  {
   "cell_type": "markdown",
   "id": "86294c45-cd5f-4dce-a274-8edd217ffe67",
   "metadata": {},
   "source": [
    "Initialize the model using parameter values from the configuration file."
   ]
  },
  {
   "cell_type": "code",
   "execution_count": null,
   "id": "f95a4abd-2176-4f0d-8753-e6721c8ff14d",
   "metadata": {},
   "outputs": [],
   "source": [
    "m.initialize(\"config.yaml\")"
   ]
  },
  {
   "cell_type": "markdown",
   "id": "074355d1-5863-44d2-b3de-c3451bc420c5",
   "metadata": {},
   "source": [
    "## Get model information"
   ]
  },
  {
   "cell_type": "markdown",
   "id": "953919e4-868b-437b-a0be-db2b8fc7af07",
   "metadata": {},
   "source": [
    "List the model's input and output variables (also called \"exchange items\")."
   ]
  },
  {
   "cell_type": "code",
   "execution_count": null,
   "id": "6084fcaa-d8d7-41bd-a6dd-acbc6a7c92a7",
   "metadata": {},
   "outputs": [],
   "source": [
    "print(\"Number of input variables:\", m.get_input_item_count())\n",
    "for var in m.get_input_var_names():\n",
    "    print(f\" - {var}\")\n",
    "\n",
    "print(\"Number of output variables:\", m.get_output_item_count())\n",
    "for var in m.get_output_var_names():\n",
    "    print(f\" - {var}\")"
   ]
  },
  {
   "cell_type": "markdown",
   "id": "490b059b-089b-4feb-a36a-e6ff04d1b15a",
   "metadata": {},
   "source": [
    "The BMI exposes one output variable, `model_grid__histogram_of_agents`, that maps to the `histogram` variable in the AgentPy `DiffusionModel` model.\n",
    "The long variable name is an example of a [CSDMS Standard Name](https://csdms.colorado.edu/wiki/CSDMS_Standard_Names).\n",
    "\n",
    "Get more information on the `model_grid__histogram_of_agents` variable."
   ]
  },
  {
   "cell_type": "code",
   "execution_count": null,
   "id": "91426748-15b6-47b0-9c81-99b388246bb8",
   "metadata": {},
   "outputs": [],
   "source": [
    "var_name = m.get_output_var_names()[0]\n",
    "print(f\"Variable {var_name}\")\n",
    "print(\" - type:\", m.get_var_type(var_name))\n",
    "print(\" - units:\", m.get_var_units(var_name))\n",
    "print(\" - itemsize:\", m.get_var_itemsize(var_name))\n",
    "print(\" - nbytes:\", m.get_var_nbytes(var_name))\n",
    "print(\" - location:\", m.get_var_location(var_name))"
   ]
  },
  {
   "cell_type": "markdown",
   "id": "816a9999-c153-41af-b812-f7d07fd27deb",
   "metadata": {},
   "source": [
    "Note that a unit of `1` is shorthand for a dimensionless variable in the [UDUNITS](https://www.unidata.ucar.edu/software/udunits/) library used by CSDMS Standard Names."
   ]
  },
  {
   "cell_type": "markdown",
   "id": "85fc8038-ac68-43fa-ba61-c923c5b70f06",
   "metadata": {},
   "source": [
    "In a BMI, all variables are defined on grids.\n",
    "\n",
    "Get information about the grid used by the `model_grid__histogram_of_agents` variable."
   ]
  },
  {
   "cell_type": "code",
   "execution_count": null,
   "id": "0d28d22f-def8-4144-8f67-7874dcf1e125",
   "metadata": {},
   "outputs": [],
   "source": [
    "grid_id = m.get_var_grid(var_name)\n",
    "print(\" - grid id:\", grid_id)\n",
    "print(\" - grid type:\", m.get_grid_type(grid_id))\n",
    "grid_rank = m.get_grid_rank(grid_id)\n",
    "print(\" - rank:\", grid_rank)\n",
    "grid_size = m.get_grid_size(grid_id)\n",
    "print(\" - size:\", grid_size)\n",
    "grid_shape = np.empty(grid_rank, dtype=np.int32)\n",
    "m.get_grid_shape(grid_id, grid_shape)\n",
    "print(\" - shape:\", grid_shape)\n",
    "grid_spacing = np.empty(grid_rank, dtype=np.float64)\n",
    "m.get_grid_spacing(grid_id, grid_spacing)\n",
    "print(\" - spacing:\", grid_spacing)\n",
    "grid_origin = np.empty(grid_rank, dtype=np.float64)\n",
    "m.get_grid_origin(grid_id, grid_origin)\n",
    "print(\" - origin:\", grid_origin)"
   ]
  },
  {
   "cell_type": "markdown",
   "id": "5ecd6437-c779-4bbf-852d-ed1d9eae4e11",
   "metadata": {},
   "source": [
    "Get time information from the model."
   ]
  },
  {
   "cell_type": "code",
   "execution_count": null,
   "id": "37fc7faf-cfc9-40be-b0c3-ec3d0a68c33d",
   "metadata": {},
   "outputs": [],
   "source": [
    "print(\"Start time:\", m.get_start_time())\n",
    "print(\"End time:\", m.get_end_time())\n",
    "print(\"Current time:\", m.get_current_time())\n",
    "print(\"Time step:\", m.get_time_step())\n",
    "print(\"Time units:\", m.get_time_units())"
   ]
  },
  {
   "cell_type": "markdown",
   "id": "b24f52a1-03a9-46f7-a131-37a144e9111e",
   "metadata": {},
   "source": [
    "Note that while the model has been initialized, it is still at time step zero."
   ]
  },
  {
   "cell_type": "markdown",
   "id": "6fa1b57f-5ebf-480c-88fd-2aacd6035cf8",
   "metadata": {},
   "source": [
    "## View the initial model state"
   ]
  },
  {
   "cell_type": "markdown",
   "id": "1219c7a4-f55e-4b71-842d-842799895e65",
   "metadata": {},
   "source": [
    "## Run the model"
   ]
  },
  {
   "cell_type": "markdown",
   "id": "81a50ba7-85c3-430d-a6d7-9b1eb928331b",
   "metadata": {},
   "source": [
    "## View the results"
   ]
  },
  {
   "cell_type": "markdown",
   "id": "7a72b990-b65f-4359-acec-d08545c2e23c",
   "metadata": {},
   "source": [
    "## Finalize the model"
   ]
  },
  {
   "cell_type": "markdown",
   "id": "ae65a15a-c24d-4623-9527-31955cb1f117",
   "metadata": {},
   "source": [
    "Shut down the model when we're finished."
   ]
  },
  {
   "cell_type": "code",
   "execution_count": null,
   "id": "5b1578e3-c020-4fef-b691-f79ab5450fb5",
   "metadata": {},
   "outputs": [],
   "source": [
    "m.finalize()"
   ]
  }
 ],
 "metadata": {
  "kernelspec": {
   "display_name": "Python 3 (ipykernel)",
   "language": "python",
   "name": "python3"
  },
  "language_info": {
   "codemirror_mode": {
    "name": "ipython",
    "version": 3
   },
   "file_extension": ".py",
   "mimetype": "text/x-python",
   "name": "python",
   "nbconvert_exporter": "python",
   "pygments_lexer": "ipython3",
   "version": "3.12.6"
  }
 },
 "nbformat": 4,
 "nbformat_minor": 5
}
