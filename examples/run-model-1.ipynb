{
 "cells": [
  {
   "cell_type": "markdown",
   "id": "156d82ab-3dee-4444-b976-cd2a6ba9b476",
   "metadata": {},
   "source": [
    "# Run DiffusionModel"
   ]
  },
  {
   "cell_type": "code",
   "execution_count": null,
   "id": "91ddd8ca-cef2-4775-bf42-86297c7b9dee",
   "metadata": {},
   "outputs": [],
   "source": [
    "import agentpy as ap\n",
    "import matplotlib.pyplot as plt"
   ]
  },
  {
   "cell_type": "code",
   "execution_count": null,
   "id": "83532f6c-6490-4fe4-aa42-52ff37c9e70b",
   "metadata": {},
   "outputs": [],
   "source": [
    "from diffusion import DiffusionModel, load_config"
   ]
  },
  {
   "cell_type": "code",
   "execution_count": null,
   "id": "b878fd5f-8b9b-422c-9a5e-12f19281c864",
   "metadata": {},
   "outputs": [],
   "source": [
    "params = load_config(\"config.yaml\")\n",
    "params"
   ]
  },
  {
   "cell_type": "code",
   "execution_count": null,
   "id": "947ac199-c08c-431c-854e-18917f655a71",
   "metadata": {},
   "outputs": [],
   "source": [
    "m = DiffusionModel(params)\n",
    "results = m.run(steps=1)\n",
    "results"
   ]
  },
  {
   "cell_type": "code",
   "execution_count": null,
   "id": "a84ced07-fe7a-4d73-b0eb-249bbc122bd3",
   "metadata": {},
   "outputs": [],
   "source": [
    "m.histogram"
   ]
  },
  {
   "cell_type": "code",
   "execution_count": null,
   "id": "dfc5a25e-3ba5-4dce-8e18-bc7f772f9374",
   "metadata": {},
   "outputs": [],
   "source": [
    "def histogram_plot(model, axis, fig):\n",
    "    im = ap.gridplot(model.histogram, ax=axis)\n",
    "    axis.set_xlabel(\"X\")\n",
    "    axis.set_ylabel(\"Y\")\n",
    "    axis.set_title(\"Diffusion model\")\n",
    "    fig.colorbar(im, ax=ax, label=\"Particle count\", shrink=0.8)\n",
    "    fig.text(0.80, 0.90, f\"t = {model.t}\")\n",
    "    return im"
   ]
  },
  {
   "cell_type": "code",
   "execution_count": null,
   "id": "076c3bed-772f-4ea4-abb2-80bb342596bf",
   "metadata": {},
   "outputs": [],
   "source": [
    "fig, ax = plt.subplots()\n",
    "im = histogram_plot(m, ax, fig)"
   ]
  }
 ],
 "metadata": {
  "kernelspec": {
   "display_name": "Python 3 (ipykernel)",
   "language": "python",
   "name": "python3"
  },
  "language_info": {
   "codemirror_mode": {
    "name": "ipython",
    "version": 3
   },
   "file_extension": ".py",
   "mimetype": "text/x-python",
   "name": "python",
   "nbconvert_exporter": "python",
   "pygments_lexer": "ipython3",
   "version": "3.12.6"
  }
 },
 "nbformat": 4,
 "nbformat_minor": 5
}
