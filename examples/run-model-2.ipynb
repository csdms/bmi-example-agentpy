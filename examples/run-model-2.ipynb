{
 "cells": [
  {
   "cell_type": "markdown",
   "id": "156d82ab-3dee-4444-b976-cd2a6ba9b476",
   "metadata": {},
   "source": [
    "# Run the diffusion model"
   ]
  },
  {
   "attachments": {},
   "cell_type": "markdown",
   "id": "c922e309-a643-4b54-a379-cb81694db524",
   "metadata": {},
   "source": [
    "Here, rather than solving the diffusion equation numerically on a grid, the process of diffusion is modeled statistically using the random motion of particles in two dimensions. In each time step, each particle, or agent, is moved randomly zero to one grid cell in either coordinate direction.\n",
    "\n",
    "In this example, we run the diffusion model to completion with an order of magnitude more agents on a larger domain than in the [first notebook](./run-model-1.ipynb).\n",
    "\n",
    "Start by importing packages used for visualization."
   ]
  },
  {
   "cell_type": "code",
   "execution_count": null,
   "id": "91ddd8ca-cef2-4775-bf42-86297c7b9dee",
   "metadata": {},
   "outputs": [],
   "source": [
    "import agentpy as ap\n",
    "import matplotlib.pyplot as plt\n",
    "from IPython.display import HTML"
   ]
  },
  {
   "cell_type": "markdown",
   "id": "64ef1471-0ebd-420c-bc5f-5dd68ec4229b",
   "metadata": {},
   "source": [
    "Import the diffusion model written with [AgentPy](https://agentpy.readthedocs.io)."
   ]
  },
  {
   "cell_type": "code",
   "execution_count": null,
   "id": "83532f6c-6490-4fe4-aa42-52ff37c9e70b",
   "metadata": {},
   "outputs": [],
   "source": [
    "from diffusion import DiffusionModel, load_config"
   ]
  },
  {
   "cell_type": "markdown",
   "id": "2c2d4858-65f4-4150-8104-403afa29090a",
   "metadata": {},
   "source": [
    "Load the parameters for the model."
   ]
  },
  {
   "cell_type": "code",
   "execution_count": null,
   "id": "b878fd5f-8b9b-422c-9a5e-12f19281c864",
   "metadata": {},
   "outputs": [],
   "source": [
    "params = load_config(\"config-big.yaml\")\n",
    "params"
   ]
  },
  {
   "cell_type": "markdown",
   "id": "f02e94c6-fa52-45ba-8965-e563d2afda83",
   "metadata": {},
   "source": [
    "Import two helper functions for plotting,\n",
    "then visualize the two-dimensional distribution of agents as function of model time."
   ]
  },
  {
   "cell_type": "code",
   "execution_count": null,
   "id": "dfc5a25e-3ba5-4dce-8e18-bc7f772f9374",
   "metadata": {},
   "outputs": [],
   "source": [
    "from diffusion.vis import histogram_plot, animation_colorbar_plot"
   ]
  },
  {
   "cell_type": "code",
   "execution_count": null,
   "id": "076c3bed-772f-4ea4-abb2-80bb342596bf",
   "metadata": {},
   "outputs": [],
   "source": [
    "fig, ax = plt.subplots()\n",
    "m = DiffusionModel(params)\n",
    "\n",
    "animation = ap.animate(m, fig, ax, histogram_plot)\n",
    "animation_colorbar_plot(m, ax, fig)\n",
    "HTML(animation.to_jshtml())"
   ]
  }
 ],
 "metadata": {
  "kernelspec": {
   "display_name": "Python 3 (ipykernel)",
   "language": "python",
   "name": "python3"
  },
  "language_info": {
   "codemirror_mode": {
    "name": "ipython",
    "version": 3
   },
   "file_extension": ".py",
   "mimetype": "text/x-python",
   "name": "python",
   "nbconvert_exporter": "python",
   "pygments_lexer": "ipython3",
   "version": "3.12.6"
  }
 },
 "nbformat": 4,
 "nbformat_minor": 5
}
